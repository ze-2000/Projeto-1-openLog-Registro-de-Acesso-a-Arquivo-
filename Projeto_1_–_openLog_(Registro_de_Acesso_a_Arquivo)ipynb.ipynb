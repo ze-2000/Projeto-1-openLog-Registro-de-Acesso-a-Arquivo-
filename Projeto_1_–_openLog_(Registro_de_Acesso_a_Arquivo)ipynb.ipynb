{
  "nbformat": 4,
  "nbformat_minor": 0,
  "metadata": {
    "colab": {
      "provenance": [],
      "authorship_tag": "ABX9TyNhXistwyAigJFcbe0Czxea",
      "include_colab_link": true
    },
    "kernelspec": {
      "name": "python3",
      "display_name": "Python 3"
    },
    "language_info": {
      "name": "python"
    }
  },
  "cells": [
    {
      "cell_type": "markdown",
      "metadata": {
        "id": "view-in-github",
        "colab_type": "text"
      },
      "source": [
        "<a href=\"https://colab.research.google.com/github/ze-2000/Projeto-1-openLog-Registro-de-Acesso-a-Arquivo-/blob/main/Projeto_1_%E2%80%93_openLog_(Registro_de_Acesso_a_Arquivo)ipynb.ipynb\" target=\"_parent\"><img src=\"https://colab.research.google.com/assets/colab-badge.svg\" alt=\"Open In Colab\"/></a>"
      ]
    },
    {
      "cell_type": "markdown",
      "source": [
        "Objetivo: Criar uma função personalizada em Python que registra acessos a arquivos\n",
        "O que fazer no Google Colab:\n",
        "\n",
        "Crie um arquivo teste.txt no Google Drive.\n",
        "\n",
        "Crie um notebook novo no Colab.\n",
        "\n",
        "Implemente a função openLog(nomearq, modo):\n",
        "\n",
        "Use open() para abrir o arquivo.\n",
        "\n",
        "Registre a data e hora de cada acesso no log.txt.\n",
        "\n",
        "Use o módulo time para isso.\n",
        "\n",
        "Teste a função acessando o arquivo teste.txt.\n"
      ],
      "metadata": {
        "id": "VTFMM5ZoxpWG"
      }
    },
    {
      "cell_type": "markdown",
      "source": [
        "Célula 1 – Função openLog básica + registro em log.txt"
      ],
      "metadata": {
        "id": "PRbWb2Ixxr15"
      }
    },
    {
      "cell_type": "code",
      "execution_count": null,
      "metadata": {
        "id": "kVb8_4C8xkQm"
      },
      "outputs": [],
      "source": [
        "import time\n",
        "\n",
        "def openLog(nomearq, modo):\n",
        "    # Abre o arquivo solicitado\n",
        "    arqEntrada = open(nomearq, modo)\n",
        "\n",
        "    # Formata data e hora do acesso\n",
        "    data_hora = time.strftime(\"%A, %d %b %Y - %H:%M:%S\", time.localtime())\n",
        "\n",
        "    # Cria a linha de log\n",
        "    linha_log = f\"Acesso ao arquivo: {nomearq} | Data e Hora: {data_hora}\\n\"\n",
        "\n",
        "    # Abre o log e escreve a linha\n",
        "    with open(\"log.txt\", \"a\") as log:\n",
        "        log.write(linha_log)\n",
        "\n",
        "    # Retorna o arquivo aberto\n",
        "    return arqEntrada\n"
      ]
    },
    {
      "cell_type": "markdown",
      "source": [
        "Célula 2 – Teste da função com um arquivo real"
      ],
      "metadata": {
        "id": "g6Yceyu5yKoz"
      }
    },
    {
      "cell_type": "code",
      "source": [
        "# Substitua o caminho pelo caminho real do seu arquivo no Drive\n",
        "nome_arquivo = \"/content/teste.txt\"\n",
        "\n",
        "# Escrevendo no arquivo com a função openLog\n",
        "arquivo = openLog(nome_arquivo, \"w\")\n",
        "arquivo.write(\"Teste de acesso ao arquivo com registro em log.\")\n",
        "arquivo.close()\n",
        "\n",
        "# Agora acessando o mesmo arquivo novamente, modo leitura\n",
        "arquivo = openLog(nome_arquivo, \"r\")\n",
        "print(arquivo.read())\n",
        "arquivo.close()"
      ],
      "metadata": {
        "id": "msBfoC06yNML"
      },
      "execution_count": null,
      "outputs": []
    },
    {
      "cell_type": "markdown",
      "source": [
        "Célula 3 – Verificando o conteúdo do log"
      ],
      "metadata": {
        "id": "mLZ1bF1wyQSi"
      }
    },
    {
      "cell_type": "code",
      "source": [
        "# Visualiza os registros de acesso\n",
        "with open(\"log.txt\", \"r\") as log:\n",
        "    print(\"Conteúdo do log de acessos:\")\n",
        "    print(log.read())\n"
      ],
      "metadata": {
        "id": "awDwG2dXyTWi"
      },
      "execution_count": null,
      "outputs": []
    }
  ]
}